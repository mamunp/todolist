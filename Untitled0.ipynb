{
  "nbformat": 4,
  "nbformat_minor": 0,
  "metadata": {
    "colab": {
      "name": "Untitled0.ipynb",
      "provenance": [],
      "collapsed_sections": [],
      "authorship_tag": "ABX9TyOk9YgE+WYrE1Ym1/gK8n/i",
      "include_colab_link": true
    },
    "kernelspec": {
      "name": "python3",
      "display_name": "Python 3"
    }
  },
  "cells": [
    {
      "cell_type": "markdown",
      "metadata": {
        "id": "view-in-github",
        "colab_type": "text"
      },
      "source": [
        "<a href=\"https://colab.research.google.com/github/mamunp/todolist/blob/master/Untitled0.ipynb\" target=\"_parent\"><img src=\"https://colab.research.google.com/assets/colab-badge.svg\" alt=\"Open In Colab\"/></a>"
      ]
    },
    {
      "cell_type": "code",
      "metadata": {
        "id": "4ipXIOBp8Y1i",
        "colab_type": "code",
        "colab": {}
      },
      "source": [
        "data = []\n",
        "choice = 'random'\n",
        "\n",
        "def line():\n",
        "  print('************************')\n",
        "\n",
        "def show_menu():\n",
        "  line()\n",
        "  print('MANU')\n",
        "  line()\n",
        "  print('1. add item')\n",
        "  print('2. Remove item')\n",
        "  print('3. view list')\n",
        "  print('4. edit list')\n",
        "  print('5. exit')\n",
        "  line()\n",
        "  choice = input('Enter a number that you choice: ')\n",
        "  return choice\n",
        "\n",
        "while choice != '5':\n",
        "    choice = show_menu()\n",
        "    if choice == '1':\n",
        "        item = input('What is to be done? ')\n",
        "        data.append(item)\n",
        "        print('Item', item, 'added')\n",
        "    elif choice == '2':\n",
        "        item = input('What is to be marked as done? ')\n",
        "        if item in data:\n",
        "            data.remove(item)\n",
        "            print('Removed item', item)\n",
        "        else:\n",
        "            print('Could not find item', item)\n",
        "    elif choice == '3':\n",
        "        print('List of to-do items:')\n",
        "        for item in data:\n",
        "            print(item)\n",
        "    elif choice == '5':\n",
        "        print('Goodbye!')\n",
        "    else:\n",
        "        print('Please enter one of 1, 2, 3 or 4')"
      ],
      "execution_count": null,
      "outputs": []
    }
  ]
}